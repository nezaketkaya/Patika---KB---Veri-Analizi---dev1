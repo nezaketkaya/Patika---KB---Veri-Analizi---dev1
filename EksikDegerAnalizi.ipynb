{
 "cells": [
  {
   "cell_type": "code",
   "execution_count": 7,
   "id": "994caf65-25bd-48ca-8538-77485cb7bd42",
   "metadata": {},
   "outputs": [
    {
     "name": "stdout",
     "output_type": "stream",
     "text": [
      "Eksik Değer Analizi:\n",
      "Series([], dtype: int64)\n",
      "Veri setinde eksik değer bulunmamaktadır.\n"
     ]
    }
   ],
   "source": [
    "import pandas as pd\n",
    "\n",
    "df = pd.read_csv(\"customer_experience_data.csv\")\n",
    "\n",
    "missing_values = df.isnull().sum()\n",
    "\n",
    "print(\"Eksik Değer:\")\n",
    "print(missing_values[missing_values > 0])\n",
    "\n",
    "if missing_values.sum() == 0:\n",
    "    print(\"Veri setinde eksik değer bulunmamaktadır.\")\n"
   ]
  },
  {
   "cell_type": "code",
   "execution_count": null,
   "id": "2e66c387-0f7b-4018-8f7a-d69a7c506921",
   "metadata": {},
   "outputs": [],
   "source": []
  }
 ],
 "metadata": {
  "kernelspec": {
   "display_name": "Python 3 (ipykernel)",
   "language": "python",
   "name": "python3"
  },
  "language_info": {
   "codemirror_mode": {
    "name": "ipython",
    "version": 3
   },
   "file_extension": ".py",
   "mimetype": "text/x-python",
   "name": "python",
   "nbconvert_exporter": "python",
   "pygments_lexer": "ipython3",
   "version": "3.12.7"
  }
 },
 "nbformat": 4,
 "nbformat_minor": 5
}
