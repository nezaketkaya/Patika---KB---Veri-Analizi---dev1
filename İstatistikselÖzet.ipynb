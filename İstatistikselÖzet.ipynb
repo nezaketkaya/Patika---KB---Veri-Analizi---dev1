{
 "cells": [
  {
   "cell_type": "code",
   "execution_count": 1,
   "id": "14de48a1-fb37-42b8-9364-06ab4e66d428",
   "metadata": {},
   "outputs": [
    {
     "name": "stdout",
     "output_type": "stream",
     "text": [
      "İstatistiksel Özet:\n",
      "                           count        mean         std        min  \\\n",
      "Customer_ID               1000.0  500.500000  288.819436   1.000000   \n",
      "Age                       1000.0   43.819000   14.991030  18.000000   \n",
      "Num_Interactions          1000.0    7.545000    4.016978   1.000000   \n",
      "Feedback_Score            1000.0    2.985000    1.418022   1.000000   \n",
      "Products_Purchased        1000.0   10.417000    5.345623   1.000000   \n",
      "Products_Viewed           1000.0   27.370000   12.939572   5.000000   \n",
      "Time_Spent_on_Site        1000.0   32.274399   15.734978   5.114208   \n",
      "Satisfaction_Score        1000.0    5.540000    2.904279   1.000000   \n",
      "Gender_Encoded            1000.0    0.524000    0.499674   0.000000   \n",
      "Location_Encoded          1000.0    1.032000    0.809711   0.000000   \n",
      "Retention_Status_Encoded  1000.0    0.694000    0.461060   0.000000   \n",
      "\n",
      "                                 25%         50%         75%          max  \\\n",
      "Customer_ID               250.750000  500.500000  750.250000  1000.000000   \n",
      "Age                        31.000000   44.000000   56.000000    69.000000   \n",
      "Num_Interactions            4.000000    8.000000   11.000000    14.000000   \n",
      "Feedback_Score              2.000000    3.000000    4.000000     5.000000   \n",
      "Products_Purchased          6.000000   11.000000   15.000000    19.000000   \n",
      "Products_Viewed            17.000000   27.500000   38.000000    49.000000   \n",
      "Time_Spent_on_Site         18.836771   32.455598   45.932524    59.947722   \n",
      "Satisfaction_Score          3.000000    6.000000    8.000000    10.000000   \n",
      "Gender_Encoded              0.000000    1.000000    1.000000     1.000000   \n",
      "Location_Encoded            0.000000    1.000000    2.000000     2.000000   \n",
      "Retention_Status_Encoded    0.000000    1.000000    1.000000     1.000000   \n",
      "\n",
      "                              median  \n",
      "Customer_ID               500.500000  \n",
      "Age                        44.000000  \n",
      "Num_Interactions            8.000000  \n",
      "Feedback_Score              3.000000  \n",
      "Products_Purchased         11.000000  \n",
      "Products_Viewed            27.500000  \n",
      "Time_Spent_on_Site         32.455598  \n",
      "Satisfaction_Score          6.000000  \n",
      "Gender_Encoded              1.000000  \n",
      "Location_Encoded            1.000000  \n",
      "Retention_Status_Encoded    1.000000  \n"
     ]
    }
   ],
   "source": [
    "import pandas as pd\n",
    "\n",
    "df = pd.read_csv(\"customer_experience_data.csv\")\n",
    "\n",
    "summary = df.describe().T\n",
    "\n",
    "summary[\"median\"] = df.median(numeric_only=True)\n",
    "\n",
    "print(\"İstatistiksel Özet:\")\n",
    "print(summary)\n"
   ]
  },
  {
   "cell_type": "code",
   "execution_count": null,
   "id": "76ec8016-68b9-4589-8b2f-0b0c8bd745bd",
   "metadata": {},
   "outputs": [],
   "source": []
  }
 ],
 "metadata": {
  "kernelspec": {
   "display_name": "Python 3 (ipykernel)",
   "language": "python",
   "name": "python3"
  },
  "language_info": {
   "codemirror_mode": {
    "name": "ipython",
    "version": 3
   },
   "file_extension": ".py",
   "mimetype": "text/x-python",
   "name": "python",
   "nbconvert_exporter": "python",
   "pygments_lexer": "ipython3",
   "version": "3.12.7"
  }
 },
 "nbformat": 4,
 "nbformat_minor": 5
}
